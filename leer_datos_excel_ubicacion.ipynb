{
 "cells": [
  {
   "cell_type": "markdown",
   "id": "eac28705",
   "metadata": {},
   "source": [
    "# Lectura de un archivo Excel desde una ubicación específica\n",
    "Este notebook muestra cómo leer un archivo `.xlsx` desde una ubicación determinada y visualizar su contenido."
   ]
  },
  {
   "cell_type": "code",
   "execution_count": null,
   "id": "a0e4d622",
   "metadata": {},
   "outputs": [],
   "source": [
    "# Importamos la librería pandas\n",
    "import pandas as pd"
   ]
  },
  {
   "cell_type": "code",
   "execution_count": null,
   "id": "b19b4cba",
   "metadata": {},
   "outputs": [],
   "source": [
    "# Definimos la ruta del archivo Excel (ya guardado previamente)\n",
    "ruta_excel = \"/mnt/data/datos_excel.xlsx\"  # Ruta al archivo generado\n",
    "\n",
    "# Leemos el archivo Excel usando pandas\n",
    "df_excel = pd.read_excel(ruta_excel)  # Carga los datos en un DataFrame\n",
    "\n",
    "# Mostramos el contenido del archivo\n",
    "df_excel"
   ]
  },
  {
   "cell_type": "code",
   "execution_count": null,
   "id": "752495ff",
   "metadata": {},
   "outputs": [],
   "source": [
    "# Información general sobre los datos\n",
    "df_excel.info()"
   ]
  },
  {
   "cell_type": "code",
   "execution_count": null,
   "id": "f1c9d2b9",
   "metadata": {},
   "outputs": [],
   "source": [
    "# Estadísticas descriptivas de las columnas numéricas\n",
    "df_excel.describe()"
   ]
  },
  {
   "cell_type": "code",
   "execution_count": null,
   "id": "58728807",
   "metadata": {},
   "outputs": [],
   "source": [
    "# Visualización con matplotlib\n",
    "import matplotlib.pyplot as plt\n",
    "\n",
    "# Creamos un gráfico de barras para visualizar las edades por nombre\n",
    "plt.figure(figsize=(8, 5))\n",
    "plt.bar(df_excel['nombre'], df_excel['edad'], color='skyblue', edgecolor='black')\n",
    "plt.title(\"Edad de personas por nombre\")\n",
    "plt.xlabel(\"Nombre\")\n",
    "plt.ylabel(\"Edad\")\n",
    "plt.grid(True, axis='y')\n",
    "plt.tight_layout()\n",
    "plt.show()\n",
    "\n",
    "# Esta gráfica permite visualizar rápidamente la edad de cada persona listada en el archivo Excel.\n"
   ]
  }
 ],
 "metadata": {},
 "nbformat": 4,
 "nbformat_minor": 5
}
