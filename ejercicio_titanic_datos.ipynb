{
 "cells": [
  {
   "cell_type": "markdown",
   "id": "1c141052",
   "metadata": {},
   "source": [
    "# 🧪 Ejercicio de Análisis de Datos con el Dataset del Titanic\n",
    "En este ejercicio, utilizarás `pandas`, `matplotlib`, `sqlite3`, y `openpyxl` para explorar y visualizar datos.\n",
    "\n",
    "## 📋 Instrucciones\n",
    "1. Carga un subconjunto del dataset del Titanic.\n",
    "2. Guarda el dataset como `.xlsx`.\n",
    "3. Cárgalo desde una base de datos SQLite.\n",
    "4. Realiza un análisis descriptivo con pandas.\n",
    "5. Visualiza los datos con matplotlib.\n",
    "\n",
    "> **Objetivo**: Identificar relaciones entre características como edad, clase y supervivencia."
   ]
  },
  {
   "cell_type": "code",
   "execution_count": null,
   "id": "b85995c1",
   "metadata": {},
   "outputs": [],
   "source": [
    "# Importar librerías necesarias\n",
    "import pandas as pd\n",
    "import sqlite3\n",
    "from io import StringIO\n",
    "import matplotlib.pyplot as plt"
   ]
  },
  {
   "cell_type": "markdown",
   "id": "301082ae",
   "metadata": {},
   "source": [
    "## 🔹 Paso 1: Cargar un subconjunto del dataset Titanic"
   ]
  },
  {
   "cell_type": "code",
   "execution_count": null,
   "id": "49277b65",
   "metadata": {},
   "outputs": [],
   "source": [
    "# Simulamos una pequeña parte del dataset del Titanic\n",
    "titanic_data = '''Nombre,Edad,Genero,Clase,Superviviente\n",
    "Allen,29,female,1,1\n",
    "Braund,22,male,3,0\n",
    "Cumings,38,female,1,1\n",
    "Heikkinen,26,female,3,1\n",
    "Futrelle,35,female,1,0\n",
    "Moran,,male,3,0\n",
    "Nasser,21,female,1,1'''\n",
    "\n",
    "df_titanic = pd.read_csv(StringIO(titanic_data))\n",
    "df_titanic"
   ]
  },
  {
   "cell_type": "markdown",
   "id": "17b80925",
   "metadata": {},
   "source": [
    "## 🔹 Paso 2: Guardar y leer como archivo Excel"
   ]
  },
  {
   "cell_type": "code",
   "execution_count": null,
   "id": "f17d8bb0",
   "metadata": {},
   "outputs": [],
   "source": [
    "# Guardamos el DataFrame en formato Excel\n",
    "df_titanic.to_excel(\"/mnt/data/titanic_pequeno.xlsx\", index=False)\n",
    "\n",
    "# Lo leemos de nuevo para validar que se guardó correctamente\n",
    "df_excel = pd.read_excel(\"/mnt/data/titanic_pequeno.xlsx\")\n",
    "df_excel"
   ]
  },
  {
   "cell_type": "markdown",
   "id": "00187c6e",
   "metadata": {},
   "source": [
    "## 🔹 Paso 3: Guardar y leer desde una base de datos SQLite"
   ]
  },
  {
   "cell_type": "code",
   "execution_count": null,
   "id": "dfaf0d3b",
   "metadata": {},
   "outputs": [],
   "source": [
    "# Conexión a base de datos SQLite en memoria\n",
    "conn = sqlite3.connect(\":memory:\")\n",
    "\n",
    "# Guardamos el DataFrame en la base de datos\n",
    "df_excel.to_sql(\"titanic\", conn, index=False, if_exists=\"replace\")\n",
    "\n",
    "# Leemos los datos desde la tabla usando SQL\n",
    "df_sql = pd.read_sql(\"SELECT * FROM titanic\", conn)\n",
    "df_sql"
   ]
  },
  {
   "cell_type": "markdown",
   "id": "4a7faa63",
   "metadata": {},
   "source": [
    "## 🔹 Paso 4: Análisis con pandas"
   ]
  },
  {
   "cell_type": "code",
   "execution_count": null,
   "id": "41e411a4",
   "metadata": {},
   "outputs": [],
   "source": [
    "# Promedio de edad por clase\n",
    "df_sql.groupby(\"Clase\")[\"Edad\"].mean()"
   ]
  },
  {
   "cell_type": "code",
   "execution_count": null,
   "id": "2222199e",
   "metadata": {},
   "outputs": [],
   "source": [
    "# Conteo de sobrevivientes por género\n",
    "df_sql.groupby(\"Genero\")[\"Superviviente\"].sum()"
   ]
  },
  {
   "cell_type": "markdown",
   "id": "2c7abd84",
   "metadata": {},
   "source": [
    "## 🔹 Paso 5: Visualización con matplotlib"
   ]
  },
  {
   "cell_type": "code",
   "execution_count": null,
   "id": "9836f0ad",
   "metadata": {},
   "outputs": [],
   "source": [
    "# Histograma de edades\n",
    "plt.figure(figsize=(8,5))\n",
    "df_sql[\"Edad\"].dropna().plot(kind='hist', bins=5, color='skyblue', edgecolor='black')\n",
    "plt.title(\"Distribución de Edad de Pasajeros\")\n",
    "plt.xlabel(\"Edad\")\n",
    "plt.grid(True)\n",
    "plt.tight_layout()\n",
    "plt.show()"
   ]
  },
  {
   "cell_type": "code",
   "execution_count": null,
   "id": "545f7f63",
   "metadata": {},
   "outputs": [],
   "source": [
    "# Gráfico de barras de sobrevivientes por clase\n",
    "sobrevivientes_clase = df_sql.groupby(\"Clase\")[\"Superviviente\"].sum()\n",
    "\n",
    "plt.figure(figsize=(8,5))\n",
    "sobrevivientes_clase.plot(kind='bar', color='green', edgecolor='black')\n",
    "plt.title(\"Sobrevivientes por Clase\")\n",
    "plt.xlabel(\"Clase\")\n",
    "plt.ylabel(\"Cantidad de Sobrevivientes\")\n",
    "plt.grid(True, axis='y')\n",
    "plt.tight_layout()\n",
    "plt.show()"
   ]
  }
 ],
 "metadata": {
  "kernelspec": {
   "display_name": "Python 3 (ipykernel)",
   "language": "python",
   "name": "python3"
  },
  "language_info": {
   "codemirror_mode": {
    "name": "ipython",
    "version": 3
   },
   "file_extension": ".py",
   "mimetype": "text/x-python",
   "name": "python",
   "nbconvert_exporter": "python",
   "pygments_lexer": "ipython3",
   "version": "3.12.5"
  }
 },
 "nbformat": 4,
 "nbformat_minor": 5
}
